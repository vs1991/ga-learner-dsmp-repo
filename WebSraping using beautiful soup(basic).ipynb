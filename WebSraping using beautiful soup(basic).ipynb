{
  "nbformat": 4,
  "nbformat_minor": 0,
  "metadata": {
    "colab": {
      "name": "Untitled0.ipynb",
      "provenance": [],
      "authorship_tag": "ABX9TyO1snD+8niWghxR8LgN+8Av",
      "include_colab_link": true
    },
    "kernelspec": {
      "name": "python3",
      "display_name": "Python 3"
    }
  },
  "cells": [
    {
      "cell_type": "markdown",
      "metadata": {
        "id": "view-in-github",
        "colab_type": "text"
      },
      "source": [
        "<a href=\"https://colab.research.google.com/github/vs1991/ga-learner-dsmp-repo/blob/master/WebSraping%20using%20beautiful%20soup(basic).ipynb\" target=\"_parent\"><img src=\"https://colab.research.google.com/assets/colab-badge.svg\" alt=\"Open In Colab\"/></a>"
      ]
    },
    {
      "cell_type": "markdown",
      "metadata": {
        "id": "UXYeeMZmaGsk",
        "colab_type": "text"
      },
      "source": [
        "# Web scrapping using Beautiful Soup\n",
        "\n",
        "1.   Scrapping players table from url:-https://www.statbunker.com\n",
        "\n",
        "\n"
      ]
    },
    {
      "cell_type": "markdown",
      "metadata": {
        "id": "HdVnMMlFabM0",
        "colab_type": "text"
      },
      "source": [
        "## Scraping Individual Performance of players"
      ]
    },
    {
      "cell_type": "code",
      "metadata": {
        "id": "JevtkopPlT73",
        "colab_type": "code",
        "colab": {
          "base_uri": "https://localhost:8080/",
          "height": 74
        },
        "outputId": "8f1b3781-06b4-4bde-f143-3e1fbdfa7792"
      },
      "source": [
        "from bs4 import BeautifulSoup\n",
        "import requests\n",
        "#from selenium import webdriver\n",
        "#from selenium.webdriver.common.keys import Keys\n",
        "#from selenium.webdriver.support.ui import WebDriverWait\n",
        "#from selenium.webdriver.support import expected_conditions as EC\n",
        "#from selenium.webdriver.common.by import By\n",
        "#from time import sleep\n",
        "import numpy as np\n",
        "import seaborn as sns\n",
        "import matplotlib as plt\n",
        "import pandas as pd\n",
        "import time"
      ],
      "execution_count": 2,
      "outputs": [
        {
          "output_type": "stream",
          "text": [
            "/usr/local/lib/python3.6/dist-packages/statsmodels/tools/_testing.py:19: FutureWarning: pandas.util.testing is deprecated. Use the functions in the public API at pandas.testing instead.\n",
            "  import pandas.util.testing as tm\n"
          ],
          "name": "stderr"
        }
      ]
    },
    {
      "cell_type": "code",
      "metadata": {
        "id": "gxEoe7TsZcuN",
        "colab_type": "code",
        "colab": {}
      },
      "source": [
        "#creates a function that collects data from particular year by using year codes\n",
        "def year_code(code):\n",
        "    url=\"https://www.statbunker.com/competitions/PlayersGoalScorersMethod?comp_id=\"+str(code)\n",
        "    headers={'User-Agent':'Mozzila/5.0'}\n",
        "    request=requests.get(url,headers=headers)\n",
        "    soup=BeautifulSoup(request.content,'html.parser')\n",
        "    My_table=soup.findAll('table',{'class':'table'})#,{'class':'wikitable sortable'})\n",
        "\n",
        "#as the type is result we need to convert into tag so that we can extract data\n",
        "    My_table=My_table[0]\n",
        "    headings=[]\n",
        "    for thead in My_table.thead.findAll('th'):\n",
        "                                #print(thead.text)\n",
        "            headings.append(thead.text.replace('\\n','').strip())\n",
        "            #print(headings)\n",
        "\n",
        "    table_data = []\n",
        "    for tr in My_table.tbody.find_all('tr') :\n",
        "            t_row={}\n",
        "            for td,th in zip(tr.find_all('td'),headings):\n",
        "                t_row[th]=td.text.replace('\\n','').strip()\n",
        "            table_data.append(t_row)\n",
        "    return(table_data)\n",
        "#for i in table_data:\n",
        " #   print(i)"
      ],
      "execution_count": 3,
      "outputs": []
    },
    {
      "cell_type": "code",
      "metadata": {
        "id": "N3E3Da31Zfo1",
        "colab_type": "code",
        "colab": {}
      },
      "source": [
        "#the code stands for the data of the corresponding year like 639 stands for the year 2019-2020 and so on \n",
        "#for calendar year 2019-2020\n",
        "\n",
        "goal_sco19_20=pd.DataFrame(year_code(639))\n",
        "goal_sco19_20['year']='2019-20'\n",
        "\n",
        "#for calendar year 2018-2019\n",
        "goal_sco18_19=pd.DataFrame(year_code(614))\n",
        "goal_sco18_19['year']='2018-19'\n",
        "\n",
        "#for calendar year 2017-2018\n",
        "goal_sco17_18=pd.DataFrame(year_code(586))\n",
        "goal_sco17_18['year']='2017-18'\n",
        "\n",
        "\n",
        "#for calendar year 2016-2017\n",
        "goal_sco16_17=pd.DataFrame(year_code(556))\n",
        "goal_sco16_17['year']='2016-17'\n",
        "\n",
        "\n",
        "#for calendar year 2015-2016\n",
        "goal_sco15_16=pd.DataFrame(year_code(515))\n",
        "goal_sco15_16['year']='2015-16'\n",
        "\n",
        "\n",
        "#for calendar year 2014-2015\n",
        "goal_sco14_15=pd.DataFrame(year_code(481))\n",
        "goal_sco14_15['year']='2014-15'\n",
        "\n",
        "\n",
        "#for calendar year 2013-2014\n",
        "goal_sco13_14=pd.DataFrame(year_code(449))\n",
        "goal_sco13_14['year']='2013-14'\n",
        "\n",
        "#for calendar year 2012-2013\n",
        "goal_sco12_13=pd.DataFrame(year_code(415))\n",
        "goal_sco12_13['year']='2012-13'\n",
        "\n",
        "#for calendar year 2011-2012\n",
        "goal_sco11_12=pd.DataFrame(year_code(373))\n",
        "goal_sco11_12['year']='2011-12'\n",
        "\n",
        "#for calendar year 2010-2011\n",
        "goal_sco10_11=pd.DataFrame(year_code(323))\n",
        "goal_sco10_11['year']='2010-11'"
      ],
      "execution_count": 4,
      "outputs": []
    },
    {
      "cell_type": "code",
      "metadata": {
        "id": "t8PpAcKbZiNY",
        "colab_type": "code",
        "colab": {}
      },
      "source": [
        "#combining all 10 years data frame\n",
        "\n",
        "combined=pd.concat([goal_sco10_11,goal_sco11_12,goal_sco12_13,goal_sco13_14,goal_sco14_15,goal_sco15_16,\n",
        "                    goal_sco16_17,goal_sco17_18,goal_sco18_19,goal_sco19_20],axis=0)\n",
        "\n",
        "combined['Goals']=pd.to_numeric(combined['Goals'], downcast='integer')\n"
      ],
      "execution_count": 7,
      "outputs": []
    },
    {
      "cell_type": "code",
      "metadata": {
        "id": "6kCLKDKzZ2bR",
        "colab_type": "code",
        "colab": {
          "base_uri": "https://localhost:8080/",
          "height": 198
        },
        "outputId": "df627d09-e5a8-49a9-9dd0-683fb8dd4d91"
      },
      "source": [
        "combined.head()"
      ],
      "execution_count": 8,
      "outputs": [
        {
          "output_type": "execute_result",
          "data": {
            "text/html": [
              "<div>\n",
              "<style scoped>\n",
              "    .dataframe tbody tr th:only-of-type {\n",
              "        vertical-align: middle;\n",
              "    }\n",
              "\n",
              "    .dataframe tbody tr th {\n",
              "        vertical-align: top;\n",
              "    }\n",
              "\n",
              "    .dataframe thead th {\n",
              "        text-align: right;\n",
              "    }\n",
              "</style>\n",
              "<table border=\"1\" class=\"dataframe\">\n",
              "  <thead>\n",
              "    <tr style=\"text-align: right;\">\n",
              "      <th></th>\n",
              "      <th>Players</th>\n",
              "      <th>Clubs</th>\n",
              "      <th>Goals</th>\n",
              "      <th>Right Foot</th>\n",
              "      <th>Left Foot</th>\n",
              "      <th>Header</th>\n",
              "      <th>Other</th>\n",
              "      <th>More</th>\n",
              "      <th>year</th>\n",
              "    </tr>\n",
              "  </thead>\n",
              "  <tbody>\n",
              "    <tr>\n",
              "      <th>0</th>\n",
              "      <td>Dimitar Berbatov</td>\n",
              "      <td>Manchester United</td>\n",
              "      <td>20</td>\n",
              "      <td>14</td>\n",
              "      <td>2</td>\n",
              "      <td>4</td>\n",
              "      <td>-</td>\n",
              "      <td>More</td>\n",
              "      <td>2010-11</td>\n",
              "    </tr>\n",
              "    <tr>\n",
              "      <th>1</th>\n",
              "      <td>Carlos Tevez</td>\n",
              "      <td>Manchester City</td>\n",
              "      <td>20</td>\n",
              "      <td>17</td>\n",
              "      <td>1</td>\n",
              "      <td>1</td>\n",
              "      <td>1</td>\n",
              "      <td>More</td>\n",
              "      <td>2010-11</td>\n",
              "    </tr>\n",
              "    <tr>\n",
              "      <th>2</th>\n",
              "      <td>Robin van Persie</td>\n",
              "      <td>Arsenal</td>\n",
              "      <td>18</td>\n",
              "      <td>6</td>\n",
              "      <td>11</td>\n",
              "      <td>1</td>\n",
              "      <td>-</td>\n",
              "      <td>More</td>\n",
              "      <td>2010-11</td>\n",
              "    </tr>\n",
              "    <tr>\n",
              "      <th>3</th>\n",
              "      <td>Darren Bent</td>\n",
              "      <td>Sunderland</td>\n",
              "      <td>17</td>\n",
              "      <td>11</td>\n",
              "      <td>2</td>\n",
              "      <td>4</td>\n",
              "      <td>-</td>\n",
              "      <td>More</td>\n",
              "      <td>2010-11</td>\n",
              "    </tr>\n",
              "    <tr>\n",
              "      <th>4</th>\n",
              "      <td>Peter Odemwingie</td>\n",
              "      <td>West Bromwich Albion</td>\n",
              "      <td>15</td>\n",
              "      <td>8</td>\n",
              "      <td>7</td>\n",
              "      <td>-</td>\n",
              "      <td>-</td>\n",
              "      <td>More</td>\n",
              "      <td>2010-11</td>\n",
              "    </tr>\n",
              "  </tbody>\n",
              "</table>\n",
              "</div>"
            ],
            "text/plain": [
              "            Players                 Clubs  Goals  ... Other  More     year\n",
              "0  Dimitar Berbatov     Manchester United     20  ...     -  More  2010-11\n",
              "1      Carlos Tevez       Manchester City     20  ...     1  More  2010-11\n",
              "2  Robin van Persie               Arsenal     18  ...     -  More  2010-11\n",
              "3       Darren Bent            Sunderland     17  ...     -  More  2010-11\n",
              "4  Peter Odemwingie  West Bromwich Albion     15  ...     -  More  2010-11\n",
              "\n",
              "[5 rows x 9 columns]"
            ]
          },
          "metadata": {
            "tags": []
          },
          "execution_count": 8
        }
      ]
    },
    {
      "cell_type": "code",
      "metadata": {
        "id": "hIz4YFOwZ47N",
        "colab_type": "code",
        "colab": {}
      },
      "source": [
        "#GROUPING PLAYERS ACCORDING TO TOTAL GOALS SCORED\n",
        "\n",
        "players=combined.groupby(['Players'],as_index=False)['Goals'].sum()#.sort_values(by='Goals',ascending=False)"
      ],
      "execution_count": 16,
      "outputs": []
    },
    {
      "cell_type": "code",
      "metadata": {
        "id": "YCNSaSylZqIX",
        "colab_type": "code",
        "colab": {
          "base_uri": "https://localhost:8080/",
          "height": 542
        },
        "outputId": "8fcc56d1-b0f4-4b6b-df7a-07c834c723ed"
      },
      "source": [
        "#BASIC EDA OF PLAYERS VS TOTAL GOALS\n",
        "import plotly.express as px\n",
        "fig = px.bar(x=players['Players'][0:50],y=players['Goals'][0:50])\n",
        "fig.show()"
      ],
      "execution_count": 17,
      "outputs": [
        {
          "output_type": "display_data",
          "data": {
            "text/html": [
              "<html>\n",
              "<head><meta charset=\"utf-8\" /></head>\n",
              "<body>\n",
              "    <div>\n",
              "            <script src=\"https://cdnjs.cloudflare.com/ajax/libs/mathjax/2.7.5/MathJax.js?config=TeX-AMS-MML_SVG\"></script><script type=\"text/javascript\">if (window.MathJax) {MathJax.Hub.Config({SVG: {font: \"STIX-Web\"}});}</script>\n",
              "                <script type=\"text/javascript\">window.PlotlyConfig = {MathJaxConfig: 'local'};</script>\n",
              "        <script src=\"https://cdn.plot.ly/plotly-latest.min.js\"></script>    \n",
              "            <div id=\"6124c3bd-864b-480f-993b-32bad0a9e77c\" class=\"plotly-graph-div\" style=\"height:525px; width:100%;\"></div>\n",
              "            <script type=\"text/javascript\">\n",
              "                \n",
              "                    window.PLOTLYENV=window.PLOTLYENV || {};\n",
              "                    \n",
              "                if (document.getElementById(\"6124c3bd-864b-480f-993b-32bad0a9e77c\")) {\n",
              "                    Plotly.newPlot(\n",
              "                        '6124c3bd-864b-480f-993b-32bad0a9e77c',\n",
              "                        [{\"alignmentgroup\": \"True\", \"hoverlabel\": {\"namelength\": 0}, \"hovertemplate\": \"x=%{x}<br>y=%{y}\", \"legendgroup\": \"\", \"marker\": {\"color\": \"#636efa\"}, \"name\": \"\", \"offsetgroup\": \"\", \"orientation\": \"v\", \"showlegend\": false, \"textposition\": \"auto\", \"type\": \"bar\", \"x\": [\"Aaron Connolly\", \"Aaron Cresswell\", \"Aaron Hughes\", \"Aaron Lennon\", \"Aaron Mooy\", \"Aaron Ramsey\", \"Aaron Wilbraham\", \"Abdoulaye Doucoure\", \"Abdoulaye Faye\", \"Abel Hernandez\", \"Abou Diaby\", \"Aboubakar Kamara\", \"Adam Johnson\", \"Adam Lallana\", \"Adam Le Fondre\", \"Adam Masina\", \"Adam Smith\", \"Adam Webster\", \"Adama Diomande\", \"Adama Traore\", \"Adel Taarabt\", \"Ademola Lookman\", \"Adlene Guedioura\", \"Adnan Januzaj\", \"Adrian Mariappa\", \"Ahmed Elmohamady\", \"Ahmed Hegazi\", \"Ahmed Musa\", \"Aiden McGeady\", \"Ainsley Maitland-Niles\", \"Aiyegbeni Yakubu\", \"Akos Buzsaky\", \"Alan Hutton\", \"Albert Crusat\", \"Alberto Moreno\", \"Alberto Paloschi\", \"Alejandro Faurlin\", \"Aleksandar Kolarov\", \"Aleksandar Mitrovic\", \"Alex Baptiste\", \"Alex Costa\", \"Alex Iwobi\", \"Alex Oxlade-Chamberlain\", \"Alex Pritchard\", \"Alex Song\", \"Alexander Buttner\", \"Alexander Kacanikilic\", \"Alexander Tettey\", \"Alexandre Lacazette\", \"Alexandre Pato\"], \"xaxis\": \"x\", \"y\": [3.0, 8.0, 1.0, 19.0, 9.0, 37.0, 1.0, 17.0, 1.0, 8.0, 2.0, 3.0, 29.0, 30.0, 12.0, 1.0, 5.0, 3.0, 2.0, 5.0, 7.0, 1.0, 1.0, 5.0, 2.0, 6.0, 2.0, 2.0, 1.0, 1.0, 18.0, 2.0, 3.0, 1.0, 3.0, 2.0, 1.0, 11.0, 21.0, 2.0, 2.0, 12.0, 16.0, 3.0, 5.0, 2.0, 5.0, 4.0, 37.0, 1.0], \"yaxis\": \"y\"}],\n",
              "                        {\"barmode\": \"relative\", \"legend\": {\"tracegroupgap\": 0}, \"margin\": {\"t\": 60}, \"template\": {\"data\": {\"bar\": [{\"error_x\": {\"color\": \"#2a3f5f\"}, \"error_y\": {\"color\": \"#2a3f5f\"}, \"marker\": {\"line\": {\"color\": \"#E5ECF6\", \"width\": 0.5}}, \"type\": \"bar\"}], \"barpolar\": [{\"marker\": {\"line\": {\"color\": \"#E5ECF6\", \"width\": 0.5}}, \"type\": \"barpolar\"}], \"carpet\": [{\"aaxis\": {\"endlinecolor\": \"#2a3f5f\", \"gridcolor\": \"white\", \"linecolor\": \"white\", \"minorgridcolor\": \"white\", \"startlinecolor\": \"#2a3f5f\"}, \"baxis\": {\"endlinecolor\": \"#2a3f5f\", \"gridcolor\": \"white\", \"linecolor\": \"white\", \"minorgridcolor\": \"white\", \"startlinecolor\": \"#2a3f5f\"}, \"type\": \"carpet\"}], \"choropleth\": [{\"colorbar\": {\"outlinewidth\": 0, \"ticks\": \"\"}, \"type\": \"choropleth\"}], \"contour\": [{\"colorbar\": {\"outlinewidth\": 0, \"ticks\": \"\"}, \"colorscale\": [[0.0, \"#0d0887\"], [0.1111111111111111, \"#46039f\"], [0.2222222222222222, \"#7201a8\"], [0.3333333333333333, \"#9c179e\"], [0.4444444444444444, \"#bd3786\"], [0.5555555555555556, \"#d8576b\"], [0.6666666666666666, \"#ed7953\"], [0.7777777777777778, \"#fb9f3a\"], [0.8888888888888888, \"#fdca26\"], [1.0, \"#f0f921\"]], \"type\": \"contour\"}], \"contourcarpet\": [{\"colorbar\": {\"outlinewidth\": 0, \"ticks\": \"\"}, \"type\": \"contourcarpet\"}], \"heatmap\": [{\"colorbar\": {\"outlinewidth\": 0, \"ticks\": \"\"}, \"colorscale\": [[0.0, \"#0d0887\"], [0.1111111111111111, \"#46039f\"], [0.2222222222222222, \"#7201a8\"], [0.3333333333333333, \"#9c179e\"], [0.4444444444444444, \"#bd3786\"], [0.5555555555555556, \"#d8576b\"], [0.6666666666666666, \"#ed7953\"], [0.7777777777777778, \"#fb9f3a\"], [0.8888888888888888, \"#fdca26\"], [1.0, \"#f0f921\"]], \"type\": \"heatmap\"}], \"heatmapgl\": [{\"colorbar\": {\"outlinewidth\": 0, \"ticks\": \"\"}, \"colorscale\": [[0.0, \"#0d0887\"], [0.1111111111111111, \"#46039f\"], [0.2222222222222222, \"#7201a8\"], [0.3333333333333333, \"#9c179e\"], [0.4444444444444444, \"#bd3786\"], [0.5555555555555556, \"#d8576b\"], [0.6666666666666666, \"#ed7953\"], [0.7777777777777778, \"#fb9f3a\"], [0.8888888888888888, \"#fdca26\"], [1.0, \"#f0f921\"]], \"type\": \"heatmapgl\"}], \"histogram\": [{\"marker\": {\"colorbar\": {\"outlinewidth\": 0, \"ticks\": \"\"}}, \"type\": \"histogram\"}], \"histogram2d\": [{\"colorbar\": {\"outlinewidth\": 0, \"ticks\": \"\"}, \"colorscale\": [[0.0, \"#0d0887\"], [0.1111111111111111, \"#46039f\"], [0.2222222222222222, \"#7201a8\"], [0.3333333333333333, \"#9c179e\"], [0.4444444444444444, \"#bd3786\"], [0.5555555555555556, \"#d8576b\"], [0.6666666666666666, \"#ed7953\"], [0.7777777777777778, \"#fb9f3a\"], [0.8888888888888888, \"#fdca26\"], [1.0, \"#f0f921\"]], \"type\": \"histogram2d\"}], \"histogram2dcontour\": [{\"colorbar\": {\"outlinewidth\": 0, \"ticks\": \"\"}, \"colorscale\": [[0.0, \"#0d0887\"], [0.1111111111111111, \"#46039f\"], [0.2222222222222222, \"#7201a8\"], [0.3333333333333333, \"#9c179e\"], [0.4444444444444444, \"#bd3786\"], [0.5555555555555556, \"#d8576b\"], [0.6666666666666666, \"#ed7953\"], [0.7777777777777778, \"#fb9f3a\"], [0.8888888888888888, \"#fdca26\"], [1.0, \"#f0f921\"]], \"type\": \"histogram2dcontour\"}], \"mesh3d\": [{\"colorbar\": {\"outlinewidth\": 0, \"ticks\": \"\"}, \"type\": \"mesh3d\"}], \"parcoords\": [{\"line\": {\"colorbar\": {\"outlinewidth\": 0, \"ticks\": \"\"}}, \"type\": \"parcoords\"}], \"pie\": [{\"automargin\": true, \"type\": \"pie\"}], \"scatter\": [{\"marker\": {\"colorbar\": {\"outlinewidth\": 0, \"ticks\": \"\"}}, \"type\": \"scatter\"}], \"scatter3d\": [{\"line\": {\"colorbar\": {\"outlinewidth\": 0, \"ticks\": \"\"}}, \"marker\": {\"colorbar\": {\"outlinewidth\": 0, \"ticks\": \"\"}}, \"type\": \"scatter3d\"}], \"scattercarpet\": [{\"marker\": {\"colorbar\": {\"outlinewidth\": 0, \"ticks\": \"\"}}, \"type\": \"scattercarpet\"}], \"scattergeo\": [{\"marker\": {\"colorbar\": {\"outlinewidth\": 0, \"ticks\": \"\"}}, \"type\": \"scattergeo\"}], \"scattergl\": [{\"marker\": {\"colorbar\": {\"outlinewidth\": 0, \"ticks\": \"\"}}, \"type\": \"scattergl\"}], \"scattermapbox\": [{\"marker\": {\"colorbar\": {\"outlinewidth\": 0, \"ticks\": \"\"}}, \"type\": \"scattermapbox\"}], \"scatterpolar\": [{\"marker\": {\"colorbar\": {\"outlinewidth\": 0, \"ticks\": \"\"}}, \"type\": \"scatterpolar\"}], \"scatterpolargl\": [{\"marker\": {\"colorbar\": {\"outlinewidth\": 0, \"ticks\": \"\"}}, \"type\": \"scatterpolargl\"}], \"scatterternary\": [{\"marker\": {\"colorbar\": {\"outlinewidth\": 0, \"ticks\": \"\"}}, \"type\": \"scatterternary\"}], \"surface\": [{\"colorbar\": {\"outlinewidth\": 0, \"ticks\": \"\"}, \"colorscale\": [[0.0, \"#0d0887\"], [0.1111111111111111, \"#46039f\"], [0.2222222222222222, \"#7201a8\"], [0.3333333333333333, \"#9c179e\"], [0.4444444444444444, \"#bd3786\"], [0.5555555555555556, \"#d8576b\"], [0.6666666666666666, \"#ed7953\"], [0.7777777777777778, \"#fb9f3a\"], [0.8888888888888888, \"#fdca26\"], [1.0, \"#f0f921\"]], \"type\": \"surface\"}], \"table\": [{\"cells\": {\"fill\": {\"color\": \"#EBF0F8\"}, \"line\": {\"color\": \"white\"}}, \"header\": {\"fill\": {\"color\": \"#C8D4E3\"}, \"line\": {\"color\": \"white\"}}, \"type\": \"table\"}]}, \"layout\": {\"annotationdefaults\": {\"arrowcolor\": \"#2a3f5f\", \"arrowhead\": 0, \"arrowwidth\": 1}, \"coloraxis\": {\"colorbar\": {\"outlinewidth\": 0, \"ticks\": \"\"}}, \"colorscale\": {\"diverging\": [[0, \"#8e0152\"], [0.1, \"#c51b7d\"], [0.2, \"#de77ae\"], [0.3, \"#f1b6da\"], [0.4, \"#fde0ef\"], [0.5, \"#f7f7f7\"], [0.6, \"#e6f5d0\"], [0.7, \"#b8e186\"], [0.8, \"#7fbc41\"], [0.9, \"#4d9221\"], [1, \"#276419\"]], \"sequential\": [[0.0, \"#0d0887\"], [0.1111111111111111, \"#46039f\"], [0.2222222222222222, \"#7201a8\"], [0.3333333333333333, \"#9c179e\"], [0.4444444444444444, \"#bd3786\"], [0.5555555555555556, \"#d8576b\"], [0.6666666666666666, \"#ed7953\"], [0.7777777777777778, \"#fb9f3a\"], [0.8888888888888888, \"#fdca26\"], [1.0, \"#f0f921\"]], \"sequentialminus\": [[0.0, \"#0d0887\"], [0.1111111111111111, \"#46039f\"], [0.2222222222222222, \"#7201a8\"], [0.3333333333333333, \"#9c179e\"], [0.4444444444444444, \"#bd3786\"], [0.5555555555555556, \"#d8576b\"], [0.6666666666666666, \"#ed7953\"], [0.7777777777777778, \"#fb9f3a\"], [0.8888888888888888, \"#fdca26\"], [1.0, \"#f0f921\"]]}, \"colorway\": [\"#636efa\", \"#EF553B\", \"#00cc96\", \"#ab63fa\", \"#FFA15A\", \"#19d3f3\", \"#FF6692\", \"#B6E880\", \"#FF97FF\", \"#FECB52\"], \"font\": {\"color\": \"#2a3f5f\"}, \"geo\": {\"bgcolor\": \"white\", \"lakecolor\": \"white\", \"landcolor\": \"#E5ECF6\", \"showlakes\": true, \"showland\": true, \"subunitcolor\": \"white\"}, \"hoverlabel\": {\"align\": \"left\"}, \"hovermode\": \"closest\", \"mapbox\": {\"style\": \"light\"}, \"paper_bgcolor\": \"white\", \"plot_bgcolor\": \"#E5ECF6\", \"polar\": {\"angularaxis\": {\"gridcolor\": \"white\", \"linecolor\": \"white\", \"ticks\": \"\"}, \"bgcolor\": \"#E5ECF6\", \"radialaxis\": {\"gridcolor\": \"white\", \"linecolor\": \"white\", \"ticks\": \"\"}}, \"scene\": {\"xaxis\": {\"backgroundcolor\": \"#E5ECF6\", \"gridcolor\": \"white\", \"gridwidth\": 2, \"linecolor\": \"white\", \"showbackground\": true, \"ticks\": \"\", \"zerolinecolor\": \"white\"}, \"yaxis\": {\"backgroundcolor\": \"#E5ECF6\", \"gridcolor\": \"white\", \"gridwidth\": 2, \"linecolor\": \"white\", \"showbackground\": true, \"ticks\": \"\", \"zerolinecolor\": \"white\"}, \"zaxis\": {\"backgroundcolor\": \"#E5ECF6\", \"gridcolor\": \"white\", \"gridwidth\": 2, \"linecolor\": \"white\", \"showbackground\": true, \"ticks\": \"\", \"zerolinecolor\": \"white\"}}, \"shapedefaults\": {\"line\": {\"color\": \"#2a3f5f\"}}, \"ternary\": {\"aaxis\": {\"gridcolor\": \"white\", \"linecolor\": \"white\", \"ticks\": \"\"}, \"baxis\": {\"gridcolor\": \"white\", \"linecolor\": \"white\", \"ticks\": \"\"}, \"bgcolor\": \"#E5ECF6\", \"caxis\": {\"gridcolor\": \"white\", \"linecolor\": \"white\", \"ticks\": \"\"}}, \"title\": {\"x\": 0.05}, \"xaxis\": {\"automargin\": true, \"gridcolor\": \"white\", \"linecolor\": \"white\", \"ticks\": \"\", \"title\": {\"standoff\": 15}, \"zerolinecolor\": \"white\", \"zerolinewidth\": 2}, \"yaxis\": {\"automargin\": true, \"gridcolor\": \"white\", \"linecolor\": \"white\", \"ticks\": \"\", \"title\": {\"standoff\": 15}, \"zerolinecolor\": \"white\", \"zerolinewidth\": 2}}}, \"xaxis\": {\"anchor\": \"y\", \"domain\": [0.0, 1.0], \"title\": {\"text\": \"x\"}}, \"yaxis\": {\"anchor\": \"x\", \"domain\": [0.0, 1.0], \"title\": {\"text\": \"y\"}}},\n",
              "                        {\"responsive\": true}\n",
              "                    ).then(function(){\n",
              "                            \n",
              "var gd = document.getElementById('6124c3bd-864b-480f-993b-32bad0a9e77c');\n",
              "var x = new MutationObserver(function (mutations, observer) {{\n",
              "        var display = window.getComputedStyle(gd).display;\n",
              "        if (!display || display === 'none') {{\n",
              "            console.log([gd, 'removed!']);\n",
              "            Plotly.purge(gd);\n",
              "            observer.disconnect();\n",
              "        }}\n",
              "}});\n",
              "\n",
              "// Listen for the removal of the full notebook cells\n",
              "var notebookContainer = gd.closest('#notebook-container');\n",
              "if (notebookContainer) {{\n",
              "    x.observe(notebookContainer, {childList: true});\n",
              "}}\n",
              "\n",
              "// Listen for the clearing of the current output cell\n",
              "var outputEl = gd.closest('.output');\n",
              "if (outputEl) {{\n",
              "    x.observe(outputEl, {childList: true});\n",
              "}}\n",
              "\n",
              "                        })\n",
              "                };\n",
              "                \n",
              "            </script>\n",
              "        </div>\n",
              "</body>\n",
              "</html>"
            ]
          },
          "metadata": {
            "tags": []
          }
        }
      ]
    },
    {
      "cell_type": "markdown",
      "metadata": {
        "id": "hDQHxzciaooM",
        "colab_type": "text"
      },
      "source": [
        "## Scraping fantay football players stats "
      ]
    },
    {
      "cell_type": "code",
      "metadata": {
        "id": "UeQIljb6ZvUe",
        "colab_type": "code",
        "colab": {}
      },
      "source": [
        "\n",
        "#creating the function for fantasy football point league\n",
        "def year_code_ffps(code):\n",
        "    url=\"https://www.statbunker.com/competitions/FantasyFootballPlayersStats?comp_id=\"+str(code)\n",
        "    headers={'User-Agent':'Mozzila/5.0'}\n",
        "    request=requests.get(url,headers=headers)\n",
        "    soup=BeautifulSoup(request.content,'html.parser')\n",
        "    My_table=soup.findAll('table',{'class':'table'})#,{'class':'wikitable sortable'})\n",
        "\n",
        "#as the type is result we need to convert into tag so that we can extract data\n",
        "    My_table=My_table[0]\n",
        "    headings=[]\n",
        "    for thead in My_table.thead.findAll('th'):\n",
        "                                #print(thead.text)\n",
        "            headings.append(thead.text.replace('\\n','').strip())\n",
        "            #print(headings)\n",
        "\n",
        "    table_data = []\n",
        "    for tr in My_table.tbody.find_all('tr') :\n",
        "            t_row={}\n",
        "            for td,th in zip(tr.find_all('td'),headings):\n",
        "                t_row[th]=td.text.replace('\\n','').strip()\n",
        "            table_data.append(t_row)\n",
        "    return(table_data)"
      ],
      "execution_count": 10,
      "outputs": []
    },
    {
      "cell_type": "code",
      "metadata": {
        "id": "fdi8qnPxa5hm",
        "colab_type": "code",
        "colab": {}
      },
      "source": [
        "#for calendar year 2019-2020\n",
        "ffps19_20=pd.DataFrame(year_code_ffps(639))\n",
        "ffps19_20['year']='2019-20'\n",
        "\n",
        "#for calendar year 2018-2019\n",
        "ffps18_19=pd.DataFrame(year_code_ffps(614))\n",
        "ffps18_19['year']='2018-19'\n",
        "\n",
        "#for calendar year 2017-2018\n",
        "ffps17_18=pd.DataFrame(year_code_ffps(586))\n",
        "ffps17_18['year']='2017-18'\n",
        "\n",
        "\n",
        "#for calendar year 2016-2017\n",
        "ffps16_17=pd.DataFrame(year_code_ffps(556))\n",
        "ffps16_17['year']='2016-17'\n",
        "\n",
        "\n",
        "#for calendar year 2015-2016\n",
        "ffps15_16=pd.DataFrame(year_code_ffps(515))\n",
        "ffps15_16['year']='2015-16'\n",
        "\n",
        "\n",
        "#for calendar year 2014-2015\n",
        "ffps14_15=pd.DataFrame(year_code_ffps(481))\n",
        "ffps14_15['year']='2014-15'\n",
        "\n",
        "\n",
        "#for calendar year 2013-2014\n",
        "ffps13_14=pd.DataFrame(year_code_ffps(449))\n",
        "ffps13_14['year']='2013-14'\n",
        "\n",
        "#for calendar year 2012-2013\n",
        "ffps12_13=pd.DataFrame(year_code_ffps(415))\n",
        "ffps12_13['year']='2012-13'\n",
        "\n",
        "#for calendar year 2011-2012\n",
        "ffps11_12=pd.DataFrame(year_code_ffps(373))\n",
        "ffps11_12['year']='2011-12'\n",
        "\n",
        "#for calendar year 2010-2011\n",
        "ffps10_11=pd.DataFrame(year_code_ffps(323))\n",
        "ffps10_11['year']='2010-11'"
      ],
      "execution_count": 11,
      "outputs": []
    },
    {
      "cell_type": "code",
      "metadata": {
        "id": "ttDEkCvta7q1",
        "colab_type": "code",
        "colab": {
          "base_uri": "https://localhost:8080/",
          "height": 302
        },
        "outputId": "becd089f-9c04-4c3f-e477-030cfb6eab9b"
      },
      "source": [
        "ffps10_11.head()"
      ],
      "execution_count": 12,
      "outputs": [
        {
          "output_type": "execute_result",
          "data": {
            "text/html": [
              "<div>\n",
              "<style scoped>\n",
              "    .dataframe tbody tr th:only-of-type {\n",
              "        vertical-align: middle;\n",
              "    }\n",
              "\n",
              "    .dataframe tbody tr th {\n",
              "        vertical-align: top;\n",
              "    }\n",
              "\n",
              "    .dataframe thead th {\n",
              "        text-align: right;\n",
              "    }\n",
              "</style>\n",
              "<table border=\"1\" class=\"dataframe\">\n",
              "  <thead>\n",
              "    <tr style=\"text-align: right;\">\n",
              "      <th></th>\n",
              "      <th>Players</th>\n",
              "      <th>Points</th>\n",
              "      <th>Clubs</th>\n",
              "      <th>Position</th>\n",
              "      <th>Start</th>\n",
              "      <th>Goals</th>\n",
              "      <th>A</th>\n",
              "      <th>CS</th>\n",
              "      <th>CS part</th>\n",
              "      <th>Yellow</th>\n",
              "      <th>Red</th>\n",
              "      <th>Sub</th>\n",
              "      <th>CO</th>\n",
              "      <th>Off</th>\n",
              "      <th>Pen SV</th>\n",
              "      <th>Pen M</th>\n",
              "      <th>Goals conceded</th>\n",
              "      <th>Conceded 1+</th>\n",
              "      <th>OG</th>\n",
              "      <th>More</th>\n",
              "      <th>year</th>\n",
              "    </tr>\n",
              "  </thead>\n",
              "  <tbody>\n",
              "    <tr>\n",
              "      <th>0</th>\n",
              "      <td>Carlos Tevez</td>\n",
              "      <td>171</td>\n",
              "      <td>MCFC</td>\n",
              "      <td>Forward</td>\n",
              "      <td>30</td>\n",
              "      <td>20</td>\n",
              "      <td>6</td>\n",
              "      <td>-</td>\n",
              "      <td>-</td>\n",
              "      <td>6</td>\n",
              "      <td>0</td>\n",
              "      <td>2</td>\n",
              "      <td>1</td>\n",
              "      <td>18</td>\n",
              "      <td>-</td>\n",
              "      <td>1</td>\n",
              "      <td>-</td>\n",
              "      <td>-</td>\n",
              "      <td>0</td>\n",
              "      <td>More</td>\n",
              "      <td>2010-11</td>\n",
              "    </tr>\n",
              "    <tr>\n",
              "      <th>1</th>\n",
              "      <td>Dimitar Berbatov</td>\n",
              "      <td>167</td>\n",
              "      <td>MUFC</td>\n",
              "      <td>Forward</td>\n",
              "      <td>24</td>\n",
              "      <td>20</td>\n",
              "      <td>4</td>\n",
              "      <td>-</td>\n",
              "      <td>-</td>\n",
              "      <td>1</td>\n",
              "      <td>0</td>\n",
              "      <td>10</td>\n",
              "      <td>8</td>\n",
              "      <td>9</td>\n",
              "      <td>-</td>\n",
              "      <td>0</td>\n",
              "      <td>-</td>\n",
              "      <td>-</td>\n",
              "      <td>0</td>\n",
              "      <td>More</td>\n",
              "      <td>2010-11</td>\n",
              "    </tr>\n",
              "    <tr>\n",
              "      <th>2</th>\n",
              "      <td>Darren Bent</td>\n",
              "      <td>162</td>\n",
              "      <td>SUND</td>\n",
              "      <td>Forward</td>\n",
              "      <td>36</td>\n",
              "      <td>17</td>\n",
              "      <td>2</td>\n",
              "      <td>-</td>\n",
              "      <td>-</td>\n",
              "      <td>1</td>\n",
              "      <td>0</td>\n",
              "      <td>0</td>\n",
              "      <td>0</td>\n",
              "      <td>7</td>\n",
              "      <td>-</td>\n",
              "      <td>0</td>\n",
              "      <td>-</td>\n",
              "      <td>-</td>\n",
              "      <td>0</td>\n",
              "      <td>More</td>\n",
              "      <td>2010-11</td>\n",
              "    </tr>\n",
              "    <tr>\n",
              "      <th>3</th>\n",
              "      <td>Nani</td>\n",
              "      <td>160</td>\n",
              "      <td>MUFC</td>\n",
              "      <td>Midfielder</td>\n",
              "      <td>31</td>\n",
              "      <td>9</td>\n",
              "      <td>18</td>\n",
              "      <td>-</td>\n",
              "      <td>-</td>\n",
              "      <td>1</td>\n",
              "      <td>0</td>\n",
              "      <td>3</td>\n",
              "      <td>2</td>\n",
              "      <td>9</td>\n",
              "      <td>-</td>\n",
              "      <td>1</td>\n",
              "      <td>-</td>\n",
              "      <td>-</td>\n",
              "      <td>0</td>\n",
              "      <td>More</td>\n",
              "      <td>2010-11</td>\n",
              "    </tr>\n",
              "    <tr>\n",
              "      <th>4</th>\n",
              "      <td>Didier Drogba</td>\n",
              "      <td>158</td>\n",
              "      <td>CHEL</td>\n",
              "      <td>Forward</td>\n",
              "      <td>30</td>\n",
              "      <td>11</td>\n",
              "      <td>15</td>\n",
              "      <td>-</td>\n",
              "      <td>-</td>\n",
              "      <td>6</td>\n",
              "      <td>0</td>\n",
              "      <td>6</td>\n",
              "      <td>6</td>\n",
              "      <td>5</td>\n",
              "      <td>-</td>\n",
              "      <td>1</td>\n",
              "      <td>-</td>\n",
              "      <td>-</td>\n",
              "      <td>0</td>\n",
              "      <td>More</td>\n",
              "      <td>2010-11</td>\n",
              "    </tr>\n",
              "  </tbody>\n",
              "</table>\n",
              "</div>"
            ],
            "text/plain": [
              "            Players Points Clubs    Position  ... Conceded 1+ OG  More     year\n",
              "0      Carlos Tevez    171  MCFC     Forward  ...           -  0  More  2010-11\n",
              "1  Dimitar Berbatov    167  MUFC     Forward  ...           -  0  More  2010-11\n",
              "2       Darren Bent    162  SUND     Forward  ...           -  0  More  2010-11\n",
              "3              Nani    160  MUFC  Midfielder  ...           -  0  More  2010-11\n",
              "4     Didier Drogba    158  CHEL     Forward  ...           -  0  More  2010-11\n",
              "\n",
              "[5 rows x 21 columns]"
            ]
          },
          "metadata": {
            "tags": []
          },
          "execution_count": 12
        }
      ]
    },
    {
      "cell_type": "code",
      "metadata": {
        "id": "8bzXOqgfa8nV",
        "colab_type": "code",
        "colab": {}
      },
      "source": [
        "#combining all data frames\n",
        "combined_ffps=pd.concat([ffps10_11,ffps11_12,ffps12_13,ffps13_14,ffps14_15,ffps15_16,\n",
        "                    ffps16_17,ffps17_18,ffps18_19,ffps19_20],axis=0)\n",
        "combined_ffps['Start']=pd.to_numeric(combined_ffps['Start'], downcast='integer')\n",
        "combined_ffps['Points']=pd.to_numeric(combined_ffps['Points'], downcast='integer')\n",
        "combined_ffps['A']=pd.to_numeric(combined_ffps['A'], downcast='integer')\n"
      ],
      "execution_count": 13,
      "outputs": []
    },
    {
      "cell_type": "code",
      "metadata": {
        "id": "8DQUoH8abD7N",
        "colab_type": "code",
        "colab": {
          "base_uri": "https://localhost:8080/",
          "height": 542
        },
        "outputId": "2f06787c-5a9d-406f-d2e7-60c7ee5c268a"
      },
      "source": [
        "#basics exploratory anaylsis\n",
        "players1=combined_ffps.groupby(['Players'],as_index=False)['A'].sum()#.sort_values(by='A',ascending=False)\n",
        "\n",
        "\n",
        "\n",
        "\n",
        "import plotly.express as px\n",
        "fig = px.bar(x=players1['Players'][0:80],y=players1['A'][0:80])\n",
        "fig.show()"
      ],
      "execution_count": 15,
      "outputs": [
        {
          "output_type": "display_data",
          "data": {
            "text/html": [
              "<html>\n",
              "<head><meta charset=\"utf-8\" /></head>\n",
              "<body>\n",
              "    <div>\n",
              "            <script src=\"https://cdnjs.cloudflare.com/ajax/libs/mathjax/2.7.5/MathJax.js?config=TeX-AMS-MML_SVG\"></script><script type=\"text/javascript\">if (window.MathJax) {MathJax.Hub.Config({SVG: {font: \"STIX-Web\"}});}</script>\n",
              "                <script type=\"text/javascript\">window.PlotlyConfig = {MathJaxConfig: 'local'};</script>\n",
              "        <script src=\"https://cdn.plot.ly/plotly-latest.min.js\"></script>    \n",
              "            <div id=\"33438f3f-3b2c-4f80-b301-c4bb03b0b588\" class=\"plotly-graph-div\" style=\"height:525px; width:100%;\"></div>\n",
              "            <script type=\"text/javascript\">\n",
              "                \n",
              "                    window.PLOTLYENV=window.PLOTLYENV || {};\n",
              "                    \n",
              "                if (document.getElementById(\"33438f3f-3b2c-4f80-b301-c4bb03b0b588\")) {\n",
              "                    Plotly.newPlot(\n",
              "                        '33438f3f-3b2c-4f80-b301-c4bb03b0b588',\n",
              "                        [{\"alignmentgroup\": \"True\", \"hoverlabel\": {\"namelength\": 0}, \"hovertemplate\": \"x=%{x}<br>y=%{y}\", \"legendgroup\": \"\", \"marker\": {\"color\": \"#636efa\"}, \"name\": \"\", \"offsetgroup\": \"\", \"orientation\": \"v\", \"showlegend\": false, \"textposition\": \"auto\", \"type\": \"bar\", \"x\": [\"Aaron Connolly\", \"Aaron Cresswell\", \"Aaron Doran\", \"Aaron Hughes\", \"Aaron Lennon\", \"Aaron McLean\", \"Aaron Mitchell\", \"Aaron Mooy\", \"Aaron Ramsdale\", \"Aaron Ramsey\", \"Aaron Rowe\", \"Aaron Wan-Bissaka\", \"Aaron Wilbraham\", \"Abdelhamid Sabiri\", \"Abdoulaye Doucoure\", \"Abdoulaye Faye\", \"Abdoulaye Meite\", \"Abdul Razak\", \"Abel Hernandez\", \"Abou Diaby\", \"Aboubakar Kamara\", \"Adalberto Penaranda\", \"Adam Armstrong\", \"Adam Blakeman\", \"Adam Bogdan\", \"Adam Campbell\", \"Adam Clayton\", \"Adam Drury\", \"Adam Federici\", \"Adam Forshaw\", \"Adam Hammill\", \"Adam Henley\", \"Adam Idah\", \"Adam Johnson\", \"Adam King\", \"Adam Lallana\", \"Adam Le Fondre\", \"Adam Legzdins\", \"Adam Masina\", \"Adam Matthews\", \"Adam Mitchell\", \"Adam Morgan\", \"Adam Reach\", \"Adam Reed\", \"Adam Smith\", \"Adam Webster\", \"Adama Diakhaby\", \"Adama Diomande\", \"Adama Traore\", \"Adel Taarabt\", \"Ademola Lookman\", \"Adil Nabi\", \"Adlene Guedioura\", \"Adnan Januzaj\", \"Adrian\", \"Adrian Mariappa\", \"Adrien Silva\", \"Ahmed Elmohamady\", \"Ahmed Hegazi\", \"Ahmed Musa\", \"Aiden McGeady\", \"Aiden O'Neill\", \"Ainsley Maitland-Niles\", \"Aiyegbeni Yakubu\", \"Akin Famewo\", \"Akos Buzsaky\", \"Akwasi Asante\", \"Alan Hutton\", \"Alan Judge\", \"Alan Smith\", \"Alan Tate\", \"Albert Adomah\", \"Albert Crusat\", \"Alberto Moreno\", \"Alberto Paloschi\", \"Albian Ajeti\", \"Aleix Garcia\", \"Alejandro Faurlin\", \"Alejandro Pozuelo\", \"Aleksandar Kolarov\"], \"xaxis\": \"x\", \"y\": [1, 18, 0, 1, 26, 0, 0, 6, 1, 45, 0, 7, 3, 1, 11, 0, 0, 0, 4, 3, 0, 0, 1, 0, 0, 0, 2, 0, 0, 2, 2, 0, 0, 25, 0, 28, 1, 0, 1, 0, 0, 0, 0, 0, 11, 1, 0, 0, 12, 10, 2, 0, 4, 7, 0, 1, 1, 12, 0, 0, 3, 0, 3, 2, 0, 2, 0, 5, 0, 0, 0, 0, 0, 6, 0, 0, 0, 5, 1, 23], \"yaxis\": \"y\"}],\n",
              "                        {\"barmode\": \"relative\", \"legend\": {\"tracegroupgap\": 0}, \"margin\": {\"t\": 60}, \"template\": {\"data\": {\"bar\": [{\"error_x\": {\"color\": \"#2a3f5f\"}, \"error_y\": {\"color\": \"#2a3f5f\"}, \"marker\": {\"line\": {\"color\": \"#E5ECF6\", \"width\": 0.5}}, \"type\": \"bar\"}], \"barpolar\": [{\"marker\": {\"line\": {\"color\": \"#E5ECF6\", \"width\": 0.5}}, \"type\": \"barpolar\"}], \"carpet\": [{\"aaxis\": {\"endlinecolor\": \"#2a3f5f\", \"gridcolor\": \"white\", \"linecolor\": \"white\", \"minorgridcolor\": \"white\", \"startlinecolor\": \"#2a3f5f\"}, \"baxis\": {\"endlinecolor\": \"#2a3f5f\", \"gridcolor\": \"white\", \"linecolor\": \"white\", \"minorgridcolor\": \"white\", \"startlinecolor\": \"#2a3f5f\"}, \"type\": \"carpet\"}], \"choropleth\": [{\"colorbar\": {\"outlinewidth\": 0, \"ticks\": \"\"}, \"type\": \"choropleth\"}], \"contour\": [{\"colorbar\": {\"outlinewidth\": 0, \"ticks\": \"\"}, \"colorscale\": [[0.0, \"#0d0887\"], [0.1111111111111111, \"#46039f\"], [0.2222222222222222, \"#7201a8\"], [0.3333333333333333, \"#9c179e\"], [0.4444444444444444, \"#bd3786\"], [0.5555555555555556, \"#d8576b\"], [0.6666666666666666, \"#ed7953\"], [0.7777777777777778, \"#fb9f3a\"], [0.8888888888888888, \"#fdca26\"], [1.0, \"#f0f921\"]], \"type\": \"contour\"}], \"contourcarpet\": [{\"colorbar\": {\"outlinewidth\": 0, \"ticks\": \"\"}, \"type\": \"contourcarpet\"}], \"heatmap\": [{\"colorbar\": {\"outlinewidth\": 0, \"ticks\": \"\"}, \"colorscale\": [[0.0, \"#0d0887\"], [0.1111111111111111, \"#46039f\"], [0.2222222222222222, \"#7201a8\"], [0.3333333333333333, \"#9c179e\"], [0.4444444444444444, \"#bd3786\"], [0.5555555555555556, \"#d8576b\"], [0.6666666666666666, \"#ed7953\"], [0.7777777777777778, \"#fb9f3a\"], [0.8888888888888888, \"#fdca26\"], [1.0, \"#f0f921\"]], \"type\": \"heatmap\"}], \"heatmapgl\": [{\"colorbar\": {\"outlinewidth\": 0, \"ticks\": \"\"}, \"colorscale\": [[0.0, \"#0d0887\"], [0.1111111111111111, \"#46039f\"], [0.2222222222222222, \"#7201a8\"], [0.3333333333333333, \"#9c179e\"], [0.4444444444444444, \"#bd3786\"], [0.5555555555555556, \"#d8576b\"], [0.6666666666666666, \"#ed7953\"], [0.7777777777777778, \"#fb9f3a\"], [0.8888888888888888, \"#fdca26\"], [1.0, \"#f0f921\"]], \"type\": \"heatmapgl\"}], \"histogram\": [{\"marker\": {\"colorbar\": {\"outlinewidth\": 0, \"ticks\": \"\"}}, \"type\": \"histogram\"}], \"histogram2d\": [{\"colorbar\": {\"outlinewidth\": 0, \"ticks\": \"\"}, \"colorscale\": [[0.0, \"#0d0887\"], [0.1111111111111111, \"#46039f\"], [0.2222222222222222, \"#7201a8\"], [0.3333333333333333, \"#9c179e\"], [0.4444444444444444, \"#bd3786\"], [0.5555555555555556, \"#d8576b\"], [0.6666666666666666, \"#ed7953\"], [0.7777777777777778, \"#fb9f3a\"], [0.8888888888888888, \"#fdca26\"], [1.0, \"#f0f921\"]], \"type\": \"histogram2d\"}], \"histogram2dcontour\": [{\"colorbar\": {\"outlinewidth\": 0, \"ticks\": \"\"}, \"colorscale\": [[0.0, \"#0d0887\"], [0.1111111111111111, \"#46039f\"], [0.2222222222222222, \"#7201a8\"], [0.3333333333333333, \"#9c179e\"], [0.4444444444444444, \"#bd3786\"], [0.5555555555555556, \"#d8576b\"], [0.6666666666666666, \"#ed7953\"], [0.7777777777777778, \"#fb9f3a\"], [0.8888888888888888, \"#fdca26\"], [1.0, \"#f0f921\"]], \"type\": \"histogram2dcontour\"}], \"mesh3d\": [{\"colorbar\": {\"outlinewidth\": 0, \"ticks\": \"\"}, \"type\": \"mesh3d\"}], \"parcoords\": [{\"line\": {\"colorbar\": {\"outlinewidth\": 0, \"ticks\": \"\"}}, \"type\": \"parcoords\"}], \"pie\": [{\"automargin\": true, \"type\": \"pie\"}], \"scatter\": [{\"marker\": {\"colorbar\": {\"outlinewidth\": 0, \"ticks\": \"\"}}, \"type\": \"scatter\"}], \"scatter3d\": [{\"line\": {\"colorbar\": {\"outlinewidth\": 0, \"ticks\": \"\"}}, \"marker\": {\"colorbar\": {\"outlinewidth\": 0, \"ticks\": \"\"}}, \"type\": \"scatter3d\"}], \"scattercarpet\": [{\"marker\": {\"colorbar\": {\"outlinewidth\": 0, \"ticks\": \"\"}}, \"type\": \"scattercarpet\"}], \"scattergeo\": [{\"marker\": {\"colorbar\": {\"outlinewidth\": 0, \"ticks\": \"\"}}, \"type\": \"scattergeo\"}], \"scattergl\": [{\"marker\": {\"colorbar\": {\"outlinewidth\": 0, \"ticks\": \"\"}}, \"type\": \"scattergl\"}], \"scattermapbox\": [{\"marker\": {\"colorbar\": {\"outlinewidth\": 0, \"ticks\": \"\"}}, \"type\": \"scattermapbox\"}], \"scatterpolar\": [{\"marker\": {\"colorbar\": {\"outlinewidth\": 0, \"ticks\": \"\"}}, \"type\": \"scatterpolar\"}], \"scatterpolargl\": [{\"marker\": {\"colorbar\": {\"outlinewidth\": 0, \"ticks\": \"\"}}, \"type\": \"scatterpolargl\"}], \"scatterternary\": [{\"marker\": {\"colorbar\": {\"outlinewidth\": 0, \"ticks\": \"\"}}, \"type\": \"scatterternary\"}], \"surface\": [{\"colorbar\": {\"outlinewidth\": 0, \"ticks\": \"\"}, \"colorscale\": [[0.0, \"#0d0887\"], [0.1111111111111111, \"#46039f\"], [0.2222222222222222, \"#7201a8\"], [0.3333333333333333, \"#9c179e\"], [0.4444444444444444, \"#bd3786\"], [0.5555555555555556, \"#d8576b\"], [0.6666666666666666, \"#ed7953\"], [0.7777777777777778, \"#fb9f3a\"], [0.8888888888888888, \"#fdca26\"], [1.0, \"#f0f921\"]], \"type\": \"surface\"}], \"table\": [{\"cells\": {\"fill\": {\"color\": \"#EBF0F8\"}, \"line\": {\"color\": \"white\"}}, \"header\": {\"fill\": {\"color\": \"#C8D4E3\"}, \"line\": {\"color\": \"white\"}}, \"type\": \"table\"}]}, \"layout\": {\"annotationdefaults\": {\"arrowcolor\": \"#2a3f5f\", \"arrowhead\": 0, \"arrowwidth\": 1}, \"coloraxis\": {\"colorbar\": {\"outlinewidth\": 0, \"ticks\": \"\"}}, \"colorscale\": {\"diverging\": [[0, \"#8e0152\"], [0.1, \"#c51b7d\"], [0.2, \"#de77ae\"], [0.3, \"#f1b6da\"], [0.4, \"#fde0ef\"], [0.5, \"#f7f7f7\"], [0.6, \"#e6f5d0\"], [0.7, \"#b8e186\"], [0.8, \"#7fbc41\"], [0.9, \"#4d9221\"], [1, \"#276419\"]], \"sequential\": [[0.0, \"#0d0887\"], [0.1111111111111111, \"#46039f\"], [0.2222222222222222, \"#7201a8\"], [0.3333333333333333, \"#9c179e\"], [0.4444444444444444, \"#bd3786\"], [0.5555555555555556, \"#d8576b\"], [0.6666666666666666, \"#ed7953\"], [0.7777777777777778, \"#fb9f3a\"], [0.8888888888888888, \"#fdca26\"], [1.0, \"#f0f921\"]], \"sequentialminus\": [[0.0, \"#0d0887\"], [0.1111111111111111, \"#46039f\"], [0.2222222222222222, \"#7201a8\"], [0.3333333333333333, \"#9c179e\"], [0.4444444444444444, \"#bd3786\"], [0.5555555555555556, \"#d8576b\"], [0.6666666666666666, \"#ed7953\"], [0.7777777777777778, \"#fb9f3a\"], [0.8888888888888888, \"#fdca26\"], [1.0, \"#f0f921\"]]}, \"colorway\": [\"#636efa\", \"#EF553B\", \"#00cc96\", \"#ab63fa\", \"#FFA15A\", \"#19d3f3\", \"#FF6692\", \"#B6E880\", \"#FF97FF\", \"#FECB52\"], \"font\": {\"color\": \"#2a3f5f\"}, \"geo\": {\"bgcolor\": \"white\", \"lakecolor\": \"white\", \"landcolor\": \"#E5ECF6\", \"showlakes\": true, \"showland\": true, \"subunitcolor\": \"white\"}, \"hoverlabel\": {\"align\": \"left\"}, \"hovermode\": \"closest\", \"mapbox\": {\"style\": \"light\"}, \"paper_bgcolor\": \"white\", \"plot_bgcolor\": \"#E5ECF6\", \"polar\": {\"angularaxis\": {\"gridcolor\": \"white\", \"linecolor\": \"white\", \"ticks\": \"\"}, \"bgcolor\": \"#E5ECF6\", \"radialaxis\": {\"gridcolor\": \"white\", \"linecolor\": \"white\", \"ticks\": \"\"}}, \"scene\": {\"xaxis\": {\"backgroundcolor\": \"#E5ECF6\", \"gridcolor\": \"white\", \"gridwidth\": 2, \"linecolor\": \"white\", \"showbackground\": true, \"ticks\": \"\", \"zerolinecolor\": \"white\"}, \"yaxis\": {\"backgroundcolor\": \"#E5ECF6\", \"gridcolor\": \"white\", \"gridwidth\": 2, \"linecolor\": \"white\", \"showbackground\": true, \"ticks\": \"\", \"zerolinecolor\": \"white\"}, \"zaxis\": {\"backgroundcolor\": \"#E5ECF6\", \"gridcolor\": \"white\", \"gridwidth\": 2, \"linecolor\": \"white\", \"showbackground\": true, \"ticks\": \"\", \"zerolinecolor\": \"white\"}}, \"shapedefaults\": {\"line\": {\"color\": \"#2a3f5f\"}}, \"ternary\": {\"aaxis\": {\"gridcolor\": \"white\", \"linecolor\": \"white\", \"ticks\": \"\"}, \"baxis\": {\"gridcolor\": \"white\", \"linecolor\": \"white\", \"ticks\": \"\"}, \"bgcolor\": \"#E5ECF6\", \"caxis\": {\"gridcolor\": \"white\", \"linecolor\": \"white\", \"ticks\": \"\"}}, \"title\": {\"x\": 0.05}, \"xaxis\": {\"automargin\": true, \"gridcolor\": \"white\", \"linecolor\": \"white\", \"ticks\": \"\", \"title\": {\"standoff\": 15}, \"zerolinecolor\": \"white\", \"zerolinewidth\": 2}, \"yaxis\": {\"automargin\": true, \"gridcolor\": \"white\", \"linecolor\": \"white\", \"ticks\": \"\", \"title\": {\"standoff\": 15}, \"zerolinecolor\": \"white\", \"zerolinewidth\": 2}}}, \"xaxis\": {\"anchor\": \"y\", \"domain\": [0.0, 1.0], \"title\": {\"text\": \"x\"}}, \"yaxis\": {\"anchor\": \"x\", \"domain\": [0.0, 1.0], \"title\": {\"text\": \"y\"}}},\n",
              "                        {\"responsive\": true}\n",
              "                    ).then(function(){\n",
              "                            \n",
              "var gd = document.getElementById('33438f3f-3b2c-4f80-b301-c4bb03b0b588');\n",
              "var x = new MutationObserver(function (mutations, observer) {{\n",
              "        var display = window.getComputedStyle(gd).display;\n",
              "        if (!display || display === 'none') {{\n",
              "            console.log([gd, 'removed!']);\n",
              "            Plotly.purge(gd);\n",
              "            observer.disconnect();\n",
              "        }}\n",
              "}});\n",
              "\n",
              "// Listen for the removal of the full notebook cells\n",
              "var notebookContainer = gd.closest('#notebook-container');\n",
              "if (notebookContainer) {{\n",
              "    x.observe(notebookContainer, {childList: true});\n",
              "}}\n",
              "\n",
              "// Listen for the clearing of the current output cell\n",
              "var outputEl = gd.closest('.output');\n",
              "if (outputEl) {{\n",
              "    x.observe(outputEl, {childList: true});\n",
              "}}\n",
              "\n",
              "                        })\n",
              "                };\n",
              "                \n",
              "            </script>\n",
              "        </div>\n",
              "</body>\n",
              "</html>"
            ]
          },
          "metadata": {
            "tags": []
          }
        }
      ]
    },
    {
      "cell_type": "code",
      "metadata": {
        "id": "N2QMF7TmbHEo",
        "colab_type": "code",
        "colab": {}
      },
      "source": [
        ""
      ],
      "execution_count": null,
      "outputs": []
    }
  ]
}